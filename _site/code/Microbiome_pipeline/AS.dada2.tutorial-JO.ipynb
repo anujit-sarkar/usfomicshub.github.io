{
 "cells": [
  {
   "cell_type": "markdown",
   "metadata": {},
   "source": [
    "<h1><center> Running Anujit Sarkar’s <h1 style=\"color:green;\"><center> dada2 </center></h1> microbiome-analysis pipeline </center></h1>\n",
    "<h3><center> author: J. Oberstaller </center></h3>\n",
    "<h6><center> date: 9/30/2019 </center></h6>\n"
   ]
  },
  {
   "cell_type": "code",
   "execution_count": null,
   "metadata": {
    "hide_output": true,
    "name": "setup"
   },
   "outputs": [],
   "source": [
    "knitr::opts_chunk$set(echo = TRUE)\n",
    "source(\"microbiome.source.scripts.JO.R\")"
   ]
  },
  {
   "cell_type": "code",
   "execution_count": 1,
   "metadata": {},
   "outputs": [
    {
     "data": {
      "text/html": [
       "<dl>\n",
       "\t<dt>$platform</dt>\n",
       "\t\t<dd>'x86_64-apple-darwin13.4.0'</dd>\n",
       "\t<dt>$arch</dt>\n",
       "\t\t<dd>'x86_64'</dd>\n",
       "\t<dt>$os</dt>\n",
       "\t\t<dd>'darwin13.4.0'</dd>\n",
       "\t<dt>$system</dt>\n",
       "\t\t<dd>'x86_64, darwin13.4.0'</dd>\n",
       "\t<dt>$status</dt>\n",
       "\t\t<dd>''</dd>\n",
       "\t<dt>$major</dt>\n",
       "\t\t<dd>'3'</dd>\n",
       "\t<dt>$minor</dt>\n",
       "\t\t<dd>'5.1'</dd>\n",
       "\t<dt>$year</dt>\n",
       "\t\t<dd>'2018'</dd>\n",
       "\t<dt>$month</dt>\n",
       "\t\t<dd>'07'</dd>\n",
       "\t<dt>$day</dt>\n",
       "\t\t<dd>'02'</dd>\n",
       "\t<dt>$`svn rev`</dt>\n",
       "\t\t<dd>'74947'</dd>\n",
       "\t<dt>$language</dt>\n",
       "\t\t<dd>'R'</dd>\n",
       "\t<dt>$version.string</dt>\n",
       "\t\t<dd>'R version 3.5.1 (2018-07-02)'</dd>\n",
       "\t<dt>$nickname</dt>\n",
       "\t\t<dd>'Feather Spray'</dd>\n",
       "</dl>\n"
      ],
      "text/latex": [
       "\\begin{description}\n",
       "\\item[\\$platform] 'x86\\_64-apple-darwin13.4.0'\n",
       "\\item[\\$arch] 'x86\\_64'\n",
       "\\item[\\$os] 'darwin13.4.0'\n",
       "\\item[\\$system] 'x86\\_64, darwin13.4.0'\n",
       "\\item[\\$status] ''\n",
       "\\item[\\$major] '3'\n",
       "\\item[\\$minor] '5.1'\n",
       "\\item[\\$year] '2018'\n",
       "\\item[\\$month] '07'\n",
       "\\item[\\$day] '02'\n",
       "\\item[\\$`svn rev`] '74947'\n",
       "\\item[\\$language] 'R'\n",
       "\\item[\\$version.string] 'R version 3.5.1 (2018-07-02)'\n",
       "\\item[\\$nickname] 'Feather Spray'\n",
       "\\end{description}\n"
      ],
      "text/markdown": [
       "$platform\n",
       ":   'x86_64-apple-darwin13.4.0'\n",
       "$arch\n",
       ":   'x86_64'\n",
       "$os\n",
       ":   'darwin13.4.0'\n",
       "$system\n",
       ":   'x86_64, darwin13.4.0'\n",
       "$status\n",
       ":   ''\n",
       "$major\n",
       ":   '3'\n",
       "$minor\n",
       ":   '5.1'\n",
       "$year\n",
       ":   '2018'\n",
       "$month\n",
       ":   '07'\n",
       "$day\n",
       ":   '02'\n",
       "$`svn rev`\n",
       ":   '74947'\n",
       "$language\n",
       ":   'R'\n",
       "$version.string\n",
       ":   'R version 3.5.1 (2018-07-02)'\n",
       "$nickname\n",
       ":   'Feather Spray'\n",
       "\n",
       "\n"
      ],
      "text/plain": [
       "$platform\n",
       "[1] \"x86_64-apple-darwin13.4.0\"\n",
       "\n",
       "$arch\n",
       "[1] \"x86_64\"\n",
       "\n",
       "$os\n",
       "[1] \"darwin13.4.0\"\n",
       "\n",
       "$system\n",
       "[1] \"x86_64, darwin13.4.0\"\n",
       "\n",
       "$status\n",
       "[1] \"\"\n",
       "\n",
       "$major\n",
       "[1] \"3\"\n",
       "\n",
       "$minor\n",
       "[1] \"5.1\"\n",
       "\n",
       "$year\n",
       "[1] \"2018\"\n",
       "\n",
       "$month\n",
       "[1] \"07\"\n",
       "\n",
       "$day\n",
       "[1] \"02\"\n",
       "\n",
       "$`svn rev`\n",
       "[1] \"74947\"\n",
       "\n",
       "$language\n",
       "[1] \"R\"\n",
       "\n",
       "$version.string\n",
       "[1] \"R version 3.5.1 (2018-07-02)\"\n",
       "\n",
       "$nickname\n",
       "[1] \"Feather Spray\"\n"
      ]
     },
     "metadata": {},
     "output_type": "display_data"
    }
   ],
   "source": [
    "R.Version()\n"
   ]
  },
  {
   "cell_type": "markdown",
   "metadata": {},
   "source": [
    "<h1 style=\"color:green;\">Pipeline-overview</h1>\n",
    "\n",
    "*Goal*: The purpose of this analysis is to obtain an Amplicon Sequence Variant (ASV) table for all of our microbiome-sample example-data.\n",
    "\n",
    "*Input data*: We will start with demultiplexed fastq files for all samples. *This analysis is for paired-end data.* Thus, for each sample, there will be two files, named according to Illumina platform conventions:\n",
    "\n",
    "  1. Forward-reads, named *_R1_001.fastq\n",
    "  2. Reverse-reads, named *_R2_001.fastq\n",
    "\n",
    "## Before we begin ##\n",
    "\n",
    "Before we begin, let's set up a universal directory-structure to keep our analyses organized by project. We'll use the \"here\" package to make a \"microbiome_workshop\" folder in our top-level project-directory as our working directory.\n",
    "\n",
    "    **the \"here\" package determines your top-level directory-path, whatever it may be, and allows our scripts to be portable without breaking due to file-path errors.**\n",
    "    \n",
    "We'll create the following subdirectories in our microbiome_workshop directory at the same time:\n",
    "\n",
    "  - **Rdata**: this folder will contain our input .fastq.gz files.\n",
    "  - **Ranalysis**: this folder will contain any R-scripts we create to analyze these data.\n",
    "  - **Routput**: we will direct any output-files from our analyses to this folder.\n",
    "  - **Rfigs**: we will direct any figures we generate from our analyses to this folder."
   ]
  },
  {
   "cell_type": "code",
   "execution_count": null,
   "metadata": {},
   "outputs": [],
   "source": [
    "# create project-directory and subdirectories\n",
    "init.R.proj.JO(project.name = \"microbiome_workshop\")\n",
    "\n",
    "# set the project-directory as the working-directory\n",
    "setwd(here(\"microbiome_workshop\"))"
   ]
  },
  {
   "cell_type": "markdown",
   "metadata": {},
   "source": [
    "#### Moving your input-data to your microbiome_workshop/Rdata folder using Finder ####\n",
    "\n",
    "Next, use the lower-right navigation-pane in RStudio and select (check the box) the project-directory you just created. Then go to the \"More\" dropdown window and select \"Show Folder in New Window\". Your folder will open in Finder.\n",
    "\n",
    "  *Using Finder, open the \"Rdata\" folder. Move the data you downloaded to the Rdata folder. If the fastq files are in zipped format, they should be* **unzipped** *first by double-clicking the \".zip\" file in Finder.*\n",
    "  \n",
    "  Now we're ready to start our analyses.\n",
    "  \n",
    "  *NOTE: add screenshots to this section*"
   ]
  },
  {
   "cell_type": "markdown",
   "metadata": {},
   "source": [
    "<h1 style=\"color:green;\">Begin data-analyses with dada2</h1>\n",
    "\n",
    "Now back to RStudio.\n",
    "\n",
    "First we'll load the appropriate R package for the analysis (dada2). Dada2 will have automatically been installed when you ran this notebook."
   ]
  },
  {
   "cell_type": "code",
   "execution_count": null,
   "metadata": {
    "eval": false,
    "name": "load"
   },
   "outputs": [],
   "source": [
    "library(dada2)"
   ]
  },
  {
   "cell_type": "markdown",
   "metadata": {
    "lines_to_next_cell": 0
   },
   "source": [
    "<h2 style=\"color:#0BDCD6;background-color:black;vertical-align:middle;\"><center>*Important:* make sure to note the package-version of dada2 you're using! Documenting all software-versions is critical for producing quality, reproducible computational analyses.<center></h2>"
   ]
  },
  {
   "cell_type": "code",
   "execution_count": null,
   "metadata": {},
   "outputs": [],
   "source": [
    "packageVersion(\"dada2\")"
   ]
  },
  {
   "cell_type": "markdown",
   "metadata": {},
   "source": [
    "Now we're ready to work with our data. First we'll give the path to the directory where all the fastq files are stored a name (\"demo_microbiome_fasqfiles\"), then we'll check that that fastq source-directory contains all our fastq files."
   ]
  },
  {
   "cell_type": "code",
   "execution_count": null,
   "metadata": {},
   "outputs": [],
   "source": [
    "# name input-folder path\n",
    "demo_microbiome_fasqfiles <- \"./Rdata\"\n",
    "\n",
    "# Check that the fastq source directory contains all our fastq files\n",
    "list.files(demo_microbiome_fasqfiles)"
   ]
  },
  {
   "cell_type": "markdown",
   "metadata": {},
   "source": [
    "Now make two variables to separate and store the forward and the reverse reads:"
   ]
  },
  {
   "cell_type": "code",
   "execution_count": null,
   "metadata": {
    "lines_to_next_cell": 2
   },
   "outputs": [],
   "source": [
    "demo_F <- sort(list.files(demo_microbiome_fasqfiles, pattern=\"_R1_001.fastq\", full.names = TRUE))\n",
    "demo_R <- sort(list.files(demo_microbiome_fasqfiles, pattern=\"_R2_001.fastq\", full.names = TRUE))\n",
    "\n",
    "# Extract filenames of all samples for future steps in the analysis\n",
    "demo_samplenames <- sapply(strsplit(basename(demo_F), \"_\"), '[', 1)"
   ]
  },
  {
   "cell_type": "markdown",
   "metadata": {},
   "source": [
    "## Evaluating data-quality ##\n",
    "\n",
    "Let's check our data-quality by making plots and viewing them directly in RStudio. Your plots will appear in the RStudio \"Plots\" pane to the lower-right."
   ]
  },
  {
   "cell_type": "code",
   "execution_count": null,
   "metadata": {},
   "outputs": [],
   "source": [
    "# First we'll check the forward-reads:\n",
    "plotQualityProfile(demo_F[1:4], n=1e+06)\n",
    "\n",
    "# Now let's plot to check the data-quality of our reverse-reads.\n",
    "plotQualityProfile(demo_R[1:4], n=1e+06)\n"
   ]
  },
  {
   "cell_type": "markdown",
   "metadata": {},
   "source": [
    "Let's also output the plots as .pdf files so we can view them later. They'll be saved in the Rfigs directory.\n",
    "  *Helpful tip: It is important to save any data or figures you generate in R that you want to keep to file; they are not saved when you quit RStudio, and you'll have to regenerate them!*"
   ]
  },
  {
   "cell_type": "code",
   "execution_count": null,
   "metadata": {
    "hide_input": true,
    "hide_output": false,
    "name": "quality-pdfs",
    "warning": false
   },
   "outputs": [],
   "source": [
    "## save data-quality plot for forward-reads:\n",
    "pdf('Rfigs/demo_F_quality.pdf', width = 12, height = 8, pointsize = 8)\n",
    "plotQualityProfile(demo_F[1:4], n=1e+06)\n",
    "dev.off()\n",
    "\n",
    "# save the data-quality plot for our reverse-reads:\n",
    "pdf('Rfigs/demo_R_quality.pdf', width = 12, height = 8, pointsize = 8)\n",
    "plotQualityProfile(demo_R[1:4], n=1e+06)\n",
    "dev.off()"
   ]
  },
  {
   "cell_type": "markdown",
   "metadata": {
    "lines_to_next_cell": 0
   },
   "source": [
    "## Filter reads based on data-quality ##\n",
    "\n",
    "The next step is to filter the sequences appropriately, the parameters for which will depend on the data. \n",
    "\n",
    "Conceptually, we will discard the bad reads, trim the ends of the good reads, and then save the trimmed good reads to a new directory.\n",
    "\n",
    "First we will specify the path and name the output-files to which the good sequences will be written. \n",
    "  **the directory and output-files we specify here will be created in the next step (filterAndTrim).**"
   ]
  },
  {
   "cell_type": "code",
   "execution_count": null,
   "metadata": {
    "lines_to_next_cell": 2
   },
   "outputs": [],
   "source": [
    "# The first step here is to specify the path and name the output-files to which the good sequences will be written. \n",
    "  # the directory and output-files we specify here will be created in the next step (filterAndTrim).\n",
    "demo_goodF <- file.path(\"Routput/demo_good_filtered\", paste0(demo_samplenames, \"F_good.fastq.gz\"))\n",
    "demo_goodR <- file.path(\"Routput/demo_good_filtered\", paste0(demo_samplenames, \"R_good.fastq.gz\"))\n",
    "names(demo_goodF) <- demo_samplenames\n",
    "names(demo_goodR) <- demo_samplenames"
   ]
  },
  {
   "cell_type": "markdown",
   "metadata": {},
   "source": [
    "Now we perform the very important step of filtering and trimming each fastq. \n",
    "\n",
    "*These parameters are flexible and should depend on your data!*"
   ]
  },
  {
   "cell_type": "code",
   "execution_count": null,
   "metadata": {
    "lines_to_next_cell": 2,
    "name": "filtering"
   },
   "outputs": [],
   "source": [
    "\n",
    "demo_good_proper <- filterAndTrim(demo_F, demo_goodF, demo_R, demo_goodR, trimLeft = c(17, 21), truncLen = c(145, 135), maxN = 0, truncQ = 2, minQ=1, maxEE = c(2, 4), rm.phix = TRUE, n = 1e+5, compress = TRUE, verbose = TRUE)\n",
    "\n",
    "# save the output of previous step (a summary table indicating how many reads there were for each sample before and after quality-filtering):\n",
    "write.table(demo_good_proper, \"Routput/demo_filteredout.txt\", sep = \"\\t\", quote = FALSE)\n"
   ]
  },
  {
   "cell_type": "markdown",
   "metadata": {},
   "source": [
    "## Calculate and plot error-rates ##\n",
    "\n",
    "* **error-rate of what? ** *\n",
    "\n",
    "Now let's calculate the error-rates for the forward and reverse sequences, plot them directly in RStudio and save to .pdf."
   ]
  },
  {
   "cell_type": "code",
   "execution_count": null,
   "metadata": {
    "name": "error_calc"
   },
   "outputs": [],
   "source": [
    "## forward-reads:\n",
    "demo_error_F <- learnErrors(demo_goodF, nbases = 1e+07, randomize = TRUE, MAX_CONSIST = 12, multithread = TRUE, verbose = TRUE)\n",
    "plotErrors(demo_error_F, obs = TRUE, nominalQ = TRUE)\n",
    "\n",
    "## and reverse-reads:\n",
    "demo_error_R <- learnErrors(demo_goodR, nbases = 1e+07, randomize = TRUE, MAX_CONSIST = 12, multithread = TRUE, verbose = TRUE)\n",
    "plotErrors(demo_error_R, obs = TRUE, nominalQ = TRUE)\n"
   ]
  },
  {
   "cell_type": "markdown",
   "metadata": {
    "lines_to_next_cell": 0
   },
   "source": [
    "We'll also save both plots to .pdf in our Rfigs directory for our records:"
   ]
  },
  {
   "cell_type": "code",
   "execution_count": null,
   "metadata": {
    "hide_input": true,
    "hide_output": false,
    "name": "error_plots",
    "warning": false
   },
   "outputs": [],
   "source": [
    "\n",
    "pdf('Rfigs/demo_error_F_plot.pdf', width = 10, height = 10, pointsize = 8)\n",
    "plotErrors(demo_error_F, obs = TRUE, nominalQ = TRUE)\n",
    "dev.off()\n",
    "\n",
    "pdf('Rfigs/demo_error_R_plot.pdf', width = 10, height = 10, pointsize = 8)\n",
    "plotErrors(demo_error_R, obs = TRUE, nominalQ = TRUE)\n",
    "dev.off()"
   ]
  },
  {
   "cell_type": "markdown",
   "metadata": {},
   "source": [
    "## Dereplicate sequences in each sample ##\n",
    "\n",
    "*Notes about why this is necessary*"
   ]
  },
  {
   "cell_type": "code",
   "execution_count": null,
   "metadata": {
    "name": "dereplicate"
   },
   "outputs": [],
   "source": [
    "# The next step is to dereplicate the sequences in each sample\n",
    "derep_demo_F <- derepFastq(demo_goodF, n = 1e+06, verbose = TRUE)\n",
    "derep_demo_R <- derepFastq(demo_goodR, n = 1e+06, verbose = TRUE)\n",
    "\n",
    "names(derep_demo_F) <- demo_samplenames\n",
    "names(derep_demo_R) <- demo_samplenames\n"
   ]
  },
  {
   "cell_type": "markdown",
   "metadata": {},
   "source": [
    "## Running dada2: Calculating ASVs ##\n",
    "\n",
    "Now it is time to run the actual dada2 algorithm to determine the ASVs in the dataset.\n",
    "\n",
    "  ** This step is run separately for forward and reverse sets of paired-end reads **"
   ]
  },
  {
   "cell_type": "code",
   "execution_count": null,
   "metadata": {
    "lines_to_next_cell": 2,
    "name": "running_dada2"
   },
   "outputs": [],
   "source": [
    "\n",
    "demo_dada_F <- dada(derep_demo_F, err=demo_error_F, pool = TRUE, multithread = TRUE)\n",
    "demo_dada_R <- dada(derep_demo_R, err=demo_error_R, pool = TRUE, multithread = TRUE)\n",
    "\n",
    "# Let's see how many sequence variants we have got in the forward set\n",
    "demo_dada_F[[1]]"
   ]
  },
  {
   "cell_type": "markdown",
   "metadata": {},
   "source": [
    "Next we will merge the forward and reverse sets (the paired-end reads for all our samples), and output a sequence-table of all ASVs."
   ]
  },
  {
   "cell_type": "code",
   "execution_count": null,
   "metadata": {
    "name": "mergePairs"
   },
   "outputs": [],
   "source": [
    "demo_merged <- mergePairs(demo_dada_F, derep_demo_F, demo_dada_R, derep_demo_R, minOverlap = 20, maxMismatch = 0, verbose = TRUE)\n",
    "\n",
    "# Let's make a sequence table of all the ASVs\n",
    "demo_sequence_table <- makeSequenceTable(demo_merged, orderBy = \"abundance\")\n",
    "\n",
    "# We can check the distribution of the ASVs by length\n",
    "table(nchar(getSequences(demo_sequence_table)))\n"
   ]
  },
  {
   "cell_type": "markdown",
   "metadata": {},
   "source": [
    "## Filtering chimeric sequences ##\n",
    "\n",
    "**Notes about why this is important**"
   ]
  },
  {
   "cell_type": "code",
   "execution_count": null,
   "metadata": {},
   "outputs": [],
   "source": [
    "\n",
    "# Remove chimeric sequences\n",
    "demo_nochim <- removeBimeraDenovo(demo_sequence_table, method = \"consensus\", minFoldParentOverAbundance = 1, verbose = TRUE, multithread = TRUE)\n",
    "\n",
    "# Let's see how many ASVs remain after filtering chimeric sequences:\n",
    "dim(demo_nochim)\n",
    "\n",
    "# Let's see the proportion of sequences we retained after filtering for chimeric sequences:\n",
    "sum(demo_nochim)/sum(demo_sequence_table)\n"
   ]
  },
  {
   "cell_type": "markdown",
   "metadata": {},
   "source": [
    "Now we have completed all the filtering, trimming, cleanup etc. to arrive at our final data-set. Here we should check and record how many sequences we retained after each step.\n",
    "  \n",
    "  ** This test is important for trouble-shooting purposes. **"
   ]
  },
  {
   "cell_type": "code",
   "execution_count": null,
   "metadata": {},
   "outputs": [],
   "source": [
    "# Create a function to calculate reads retained\n",
    "fetch_numbers <- function(a) sum(getUniques(a))\n",
    "\n",
    "# Then apply this function to the output of each step in our pipeline to generate a counts-table of reads remaining after each step\n",
    "demo_track_steps <- cbind(demo_good_proper, sapply(demo_dada_F, fetch_numbers), sapply(demo_dada_R, fetch_numbers), sapply(demo_merged, fetch_numbers), rowSums(demo_nochim))\n",
    "colnames(demo_track_steps) <- c(\"input\", \"filtered\", \"denoisedF\", \"denoisedR\", \"merged\", \"nochim\")\n",
    "rownames(demo_track_steps) <- demo_samplenames\n",
    "\n",
    "# And save the output to a new file for our records:\n",
    "write.table(demo_track_steps, \"Routput/demo_filtering_steps_track.txt\", sep = \"\\t\", quote = FALSE)\n"
   ]
  },
  {
   "cell_type": "markdown",
   "metadata": {},
   "source": [
    "## Assign taxonomy to all ASVs ##\n",
    "\n",
    "We will next determine taxa present in our samples using the Silva database v.132.\n",
    "\n",
    "  *You downloaded this file to your Rdata directory previously (Rdata/Silva_db/silva_nr_v132_train_set.fa)*\n"
   ]
  },
  {
   "cell_type": "code",
   "execution_count": null,
   "metadata": {
    "name": "taxonomy"
   },
   "outputs": [],
   "source": [
    "demo_taxonomy <- assignTaxonomy(demo_nochim, \"Rdata/Silva_db/silva_nr_v132_train_set.fa\", minBoot = 80, verbose = TRUE, multithread = TRUE)\n",
    "write.table(demo_taxonomy, \"Routput/demo_taxaout.txt\", sep = \"\\t\", quote = FALSE)"
   ]
  },
  {
   "cell_type": "markdown",
   "metadata": {
    "lines_to_next_cell": 0
   },
   "source": [
    "Now we will generate output-files critical for further analyses and data-visualization. These include:\n",
    "\n",
    "    a table summarizing ASVs by taxa\n",
    "    a fasta-file of all ASVs\n",
    "    a table of ASV-counts per sample (the OTU-table)\n"
   ]
  },
  {
   "cell_type": "code",
   "execution_count": null,
   "metadata": {
    "lines_to_next_cell": 2,
    "name": "make_final_tables"
   },
   "outputs": [],
   "source": [
    "# Let's create a table by replacing the ASV sequences with ids (ASV_1, ASV_2 etc.) and their corresponding classifications\n",
    "demo_taxa_summary <- demo_taxonomy\n",
    "row.names(demo_taxa_summary) <- NULL\n",
    "head(demo_taxa_summary)\n",
    "\n",
    "# Let's make a file listing all the ASVs and their sequences in fasta format\n",
    "demo_asv_seqs <- colnames(demo_nochim)\n",
    "demo_asv_headers <- vector(dim(demo_nochim)[2], mode = \"character\")\n",
    "for (i in 1:dim(demo_nochim)[2]) {demo_asv_headers[i] <- paste(\">ASV\", i, sep = \"_\")}\n",
    "demo_asv.fasta <- c(rbind(demo_asv_headers, demo_asv_seqs))\n",
    "write(demo_asv.fasta, \"Routput/demo_out_asv.fasta\")\n",
    "\n",
    "# At this step, we need to make a table of ASV counts for each sample (which is going to be most important for all statistical analyses)\n",
    "demo_asv_tab <- t(demo_nochim)\n",
    "row.names(demo_asv_tab) <- sub(\">\", \"\", demo_asv_headers)\n",
    "write.table(demo_asv_tab, \"Routput/demo_asv_counts.tsv\", sep = \"\\t\", quote=F, col.names = NA)\n",
    "\n",
    "# Finally, let's make a table with the taxonomy of all the ASVs\n",
    "demo_asv_taxa <- demo_taxonomy\n",
    "row.names(demo_asv_taxa) <- sub(\">\", \"\", demo_asv_headers)\n",
    "write.table(demo_asv_taxa, \"Routput/demo_asvs_taxonomy.tsv\", sep = \"\\t\", quote=F, col.names = NA)\n",
    "dim(demo_asv_taxa)\n"
   ]
  },
  {
   "cell_type": "markdown",
   "metadata": {},
   "source": [
    "## ** THANK YOU EVERYONE ** ##"
   ]
  },
  {
   "cell_type": "markdown",
   "metadata": {},
   "source": [
    "## Data visualization : could we add a walkthrough of generating some common microbiome-analysis figures from these data?\n"
   ]
  }
 ],
 "metadata": {
  "jupytext": {
   "cell_metadata_filter": "hide_input,hide_output,warning,name,eval,-all",
   "main_language": "R",
   "notebook_metadata_filter": "-all"
  },
  "kernelspec": {
   "display_name": "R",
   "language": "R",
   "name": "ir"
  },
  "language_info": {
   "codemirror_mode": "r",
   "file_extension": ".r",
   "mimetype": "text/x-r-source",
   "name": "R",
   "pygments_lexer": "r",
   "version": "3.5.1"
  }
 },
 "nbformat": 4,
 "nbformat_minor": 2
}
